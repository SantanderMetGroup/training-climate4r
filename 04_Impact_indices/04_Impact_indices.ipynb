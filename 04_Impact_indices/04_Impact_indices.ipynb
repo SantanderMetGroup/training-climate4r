{
 "cells": [
  {
   "cell_type": "markdown",
   "id": "16bfb575-2dff-4434-969a-a628f6e6562a",
   "metadata": {
    "tags": []
   },
   "source": [
    "# Impact indices\n",
    "\n",
    "**Description of the notebook:** \n",
    "\n",
    "This `R` notebook shows how to obtain impact indices using climate4R framework, \n",
    "which facilitates the access to climate data and analysys. As a working example \n",
    "we show how to calculate bias-corrected drought index \n",
    "from EURO-CORDEX regional climate model (RCM) data. \n",
    "The data are bias-corrected using CRU-TS4 gridded observations as reference. \n",
    "The main steps to obtain the The Standardised Precipitation-Evapotranspiration Index (SPEI) projections are explained here. \n",
    "This notebook is also available in the following [link](http://www.meteo.unican.es/work/climate4r/drought4R/drought4R_notebook.htm).\n",
    "\n",
    "The notebook will give a user an insight into the basic procedure for calculating climate indices, which can be followed for calculationg eny other climate idices.  "
   ]
  },
  {
   "cell_type": "markdown",
   "id": "c5bfb020",
   "metadata": {},
   "source": [
    "## LOADING LIBRARIES: \n",
    "\n",
    "To prepare the data for calculation of the impact indices and visualization, it is nececarry to load 4 main `climate4R` packages: `transformeR`, `downscaleR`, `loadeR`, and `visualizeR`"
   ]
  },
  {
   "cell_type": "code",
   "execution_count": null,
   "id": "90a3f143",
   "metadata": {},
   "outputs": [],
   "source": [
    "library(transformeR)\n",
    "library(downscaleR)\n",
    "library(loadeR)\n",
    "library(visualizeR)"
   ]
  },
  {
   "cell_type": "markdown",
   "id": "a641a719",
   "metadata": {},
   "source": [
    "In addition to the above mentioned packages, two new packages integrated in climate4R will be \n",
    "used in this example: \n",
    "* `drought4R` - calculates climate indices; and \n",
    "* `convertR` -  for unit conversion"
   ]
  },
  {
   "cell_type": "code",
   "execution_count": null,
   "id": "e14d8994",
   "metadata": {},
   "outputs": [],
   "source": [
    "library(drought4R)\n",
    "library(convertR)"
   ]
  },
  {
   "cell_type": "markdown",
   "id": "6b5afbce",
   "metadata": {},
   "source": [
    "## DATA LOADING: \n",
    "\n",
    "### 1. Baseline observations: CRU 4.0, period 1971-2000\n",
    "\n",
    "The CRU TS gridded observations can be downloaded from the data access site. The raw data have been already prepared in a convenient format to be used in this example, and are available on-line. \n",
    "\n",
    "The following function can be used for a direct download:"
   ]
  },
  {
   "cell_type": "code",
   "execution_count": null,
   "id": "1fca4f25-23bc-453b-bcba-a2de53bc9429",
   "metadata": {},
   "outputs": [],
   "source": [
    "my_readRDS <- function(file.url) {\n",
    "    rds.file <- basename(file.url)\n",
    "    if (! file.exists(rds.file))\n",
    "      system(sprintf(\"wget --no-check-certificate %s\", file.url))\n",
    "    return(readRDS(rds.file))\n",
    "}"
   ]
  },
  {
   "cell_type": "markdown",
   "id": "145aa4bb",
   "metadata": {},
   "source": [
    "Using the above function `my_readRDS`, we download three observational datasets minimum temperature - tasmin.cru, maximum temperature - tasmax.cru, and precipitation - pr.cru"
   ]
  },
  {
   "cell_type": "code",
   "execution_count": null,
   "id": "6b525f01",
   "metadata": {},
   "outputs": [],
   "source": [
    "tasmin.cru <- my_readRDS(\"https://meteo.unican.es/work/training-climate4r-f43534662sfw/data/impact_indices/CRU_tasmin.rds\")"
   ]
  },
  {
   "cell_type": "markdown",
   "id": "859ca7b8",
   "metadata": {},
   "source": [
    "The observational data are available for the time period 1971-2010, but since we use these observational set to bias-correct the simualtions, we need a subset period from 1971-2000. FOr that we use the `subsetGrid` function fromt the `transformeR` package:"
   ]
  },
  {
   "cell_type": "code",
   "execution_count": null,
   "id": "ab85b921",
   "metadata": {},
   "outputs": [],
   "source": [
    "tasmin.scru <- subsetGrid(tasmin.cru, year=1971:2000)"
   ]
  },
  {
   "cell_type": "markdown",
   "id": "4588e448",
   "metadata": {},
   "source": [
    "**Exercise:**  \n",
    "* Read in variables tasmax.cru and pr.cru from the CRU_tasmax.rds and CRU_precip.rds, located at the same location, with filnames starting with corresponding variable names. \n",
    "* Subset the data to be fit the time period 1971-2010. \n"
   ]
  },
  {
   "cell_type": "markdown",
   "id": "024f7f15",
   "metadata": {},
   "source": [
    "```R\n",
    "tasmax.cru <- my_readRDS(\"https://meteo.unican.es/work/training-climate4r-f43534662sfw/data/impact_indices/CRU_tasmax.rds\")\n",
    "tasmax.scru <- subsetGrid(tasmax.cru, year=1971:2000)\n",
    "pr.cru <- my_readRDS(\"https://meteo.unican.es/work/training-climate4r-f43534662sfw/data/impact_indices/CRU_precip.rds\")\n",
    "pr.scru <- subsetGrid(tasmax.cru, year=1971:2000)\n",
    "```"
   ]
  },
  {
   "cell_type": "markdown",
   "id": "57bf6946",
   "metadata": {},
   "source": [
    "We need to define the **reference grid** from the observations that will be used for the interpolation of the simulations in the later steps. For that a function `getGrid` is used, included in the `transformeR` package."
   ]
  },
  {
   "cell_type": "code",
   "execution_count": null,
   "id": "54c632ba",
   "metadata": {},
   "outputs": [],
   "source": [
    "ref.grid <- getGrid(pr.cru)"
   ]
  },
  {
   "cell_type": "markdown",
   "id": "9ba05d06",
   "metadata": {},
   "source": [
    "Now we visualize what we got using function `spatialPlot` from the `visualizeR` package:"
   ]
  },
  {
   "cell_type": "code",
   "execution_count": null,
   "id": "0f22425f",
   "metadata": {
    "scrolled": true
   },
   "outputs": [],
   "source": [
    "options(repr.plot.width=10, repr.plot.height=3)\n",
    "\n",
    "spatialPlot(climatology(tasmin.cru),\n",
    "  backdrop.theme = \"countries\",\n",
    "  rev.colors = TRUE,\n",
    "  main = \"CRU-TS4.0 tasmin annual climatology (1971-2000)\"\n",
    ")"
   ]
  },
  {
   "cell_type": "markdown",
   "id": "4c127084",
   "metadata": {},
   "source": [
    "### 2. CORDEX historical experiment data, period 1971-2000\n",
    "\n",
    "Now with the functions from the `loadeR` package we can access simulations data available through UDG server, which steps are already explained in the initial [exercise](https://github.com/SantanderMetGroup/training-climate4r/blob/BuenosAires2022/02_First_steps_in_climate4R/02_First_Steps_in_Climate4R.ipynb). "
   ]
  },
  {
   "cell_type": "markdown",
   "id": "ccbd2563",
   "metadata": {},
   "source": [
    "There are many available datasets via UDG server. `UDG.datasets` lists all the available datasets, and here for the exercise we will use Euro-CORDEX simulations with the RACMO22E on 0.44 degree grid (EUR-44), forced with ICHEC-EC-EARTH global model. \n",
    "\n",
    "To list the available files that maches the above requests, we can look for the files that fit the pattern: "
   ]
  },
  {
   "cell_type": "code",
   "execution_count": null,
   "id": "b4000259",
   "metadata": {},
   "outputs": [],
   "source": [
    "filelist <- UDG.datasets(pattern = \"EUR-44.*ICHEC-EC-EARTH.*r1i1p1.*RACMO22E\")"
   ]
  },
  {
   "cell_type": "markdown",
   "id": "b9bed6ad",
   "metadata": {},
   "source": [
    "Lets see the list of the vailable files:"
   ]
  },
  {
   "cell_type": "code",
   "execution_count": null,
   "id": "3f9e96cf",
   "metadata": {},
   "outputs": [],
   "source": [
    "# To list the all the files that fit the pattern:\n",
    "filelist"
   ]
  },
  {
   "cell_type": "markdown",
   "id": "07d3b626",
   "metadata": {},
   "source": [
    "Now we have names of the files and will can load the data using the `loadGridData` function from the `loadeR` package. To load the part of the domain, first we define the boundaries of the subdomain: "
   ]
  },
  {
   "cell_type": "markdown",
   "id": "d0339dbe",
   "metadata": {},
   "source": [
    "```R\n",
    "lonLim <- c(-10, 30)\n",
    "latLim <- c(34, 48)\n",
    "```"
   ]
  },
  {
   "cell_type": "markdown",
   "id": "d5de482f",
   "metadata": {},
   "source": [
    "Now we can load minimum tamperature from the historical files for the above defined subset, 30-year period, and while loading we calculate the monthly mean by using the `aggr.m = \"mean\"` argument: "
   ]
  },
  {
   "cell_type": "markdown",
   "id": "bd45dac1",
   "metadata": {},
   "source": [
    "```R\n",
    "tasmin.hist <- loadGridData(dataset = \"CORDEX-EUR-44_MPI-M-MPI-ESM-LR_historical_r1i1p1_SMHI-RCA4_v1\",\n",
    "  var = \"tasmin\",\n",
    "  lonLim = lonLim,\n",
    "  latLim = latLim,\n",
    "  years = 1971:2000,\n",
    "  time = \"DD\",\n",
    "  aggr.m = \"mean\")\n",
    "```"
   ]
  },
  {
   "cell_type": "code",
   "execution_count": null,
   "id": "7be3800e",
   "metadata": {},
   "outputs": [],
   "source": [
    "# To load faster, we can load already prepared raw data from the same location as the observations\n",
    "\n",
    "tasmin.hist <- my_readRDS(\"https://meteo.unican.es/work/training-climate4r-f43534662sfw/data/impact_indices/tasmin_EC-EARTH_historical_r1i1p1_RACMO22E.rds\")"
   ]
  },
  {
   "cell_type": "code",
   "execution_count": null,
   "id": "4380fdb8",
   "metadata": {},
   "outputs": [],
   "source": [
    "# To check the spatial boundaries, lets plot climatology of the data\n",
    "\n",
    "spatialPlot(climatology(tasmin.hist),\n",
    "  backdrop.theme = \"countries\",\n",
    "  rev.colors = TRUE,\n",
    "  main = \"CORDEX tasmin historical annual climatology (1971-2000)\"\n",
    ")"
   ]
  },
  {
   "cell_type": "markdown",
   "id": "4667ebf0",
   "metadata": {},
   "source": [
    "Next, we ensure that the data are in degress Celsius (model data are originally stored in Kelvin in\n",
    "most cases using the function `udConvertGrid` from the new package `convertR`:"
   ]
  },
  {
   "cell_type": "code",
   "execution_count": null,
   "id": "59dac3bd",
   "metadata": {},
   "outputs": [],
   "source": [
    "tasmin.hist <- udConvertGrid(tasmin.hist, new.units = \"degC\")"
   ]
  },
  {
   "cell_type": "markdown",
   "id": "cf19892e",
   "metadata": {},
   "source": [
    "The data has to be on the same grid as observations, so we have to regrid the data to the reference regular grid from the CRU defined before as `ref.grid`. This is done using the `interpGrid` function from package `transformeR`:"
   ]
  },
  {
   "cell_type": "code",
   "execution_count": null,
   "id": "6f85b1c7",
   "metadata": {},
   "outputs": [],
   "source": [
    "tasmin.hist <- interpGrid(tasmin.hist, new.coordinates = ref.grid)"
   ]
  },
  {
   "cell_type": "markdown",
   "id": "0da5e7e2",
   "metadata": {},
   "source": [
    "The function `biasCorrection` of the package `downscaleR` allows for applying a number of standard bias\n",
    "correction techniques within the climate4R framework (see more details in one of the [notebooks](https://github.com/SantanderMetGroup/training-climate4r/blob/BuenosAires2022/03_Downscaling/03_Downscaling_and_Bias_Correction_in_Climate4R.ipynb) from previous classes. In particular, when dealing with monthly\n",
    "data, the common bias correction technique is the local scaling\n",
    "method (additive and/or multiplicative). We apply it now to the historical data, using as reference the CRU observations:"
   ]
  },
  {
   "cell_type": "code",
   "execution_count": null,
   "id": "7b872412",
   "metadata": {},
   "outputs": [],
   "source": [
    "tasmin.hist.corr <- biasCorrection(tasmin.hist,\n",
    "    y = tasmin.scru,\n",
    "    method = \"scaling\",\n",
    "    scaling.type = \"additive\")"
   ]
  },
  {
   "cell_type": "markdown",
   "id": "b74adf3e",
   "metadata": {},
   "source": [
    "**Exercise:**  \n",
    "Follow the same procedure for `tasmax` and `pr` to produce variables `tasmax.hist.corr` and `pr.hist.corr`:\n",
    "1. Load data with the function `loadGridData` (or `my_readRDS` reading file `varname_EC-EARTH_historical_r1i1p1_RACMO22E.rds`\n",
    "2. Correct unit with `udConvertGrid`\n",
    "3. Interpolate data with `interpGrid`\n",
    "4. Correct bias using the function `biasCorrection`"
   ]
  },
  {
   "cell_type": "markdown",
   "id": "086a79c3",
   "metadata": {},
   "source": [
    "```R\n",
    "# Bias correcting historical tasmax\n",
    "tasmax.hist <- my_readRDS(\"https://meteo.unican.es/work/training-climate4r-f43534662sfw/data/impact_indices/tasmax_EC-EARTH_historical_r1i1p1_RACMO22E.rds\")\n",
    "tasmin.hist <- udConvertGrid(tasmin.hist, new.units = \"degC\")\n",
    "tasmin.hist <- interpGrid(tasmin.hist, new.coordinates = ref.grid)\n",
    "tasmax.hist.corr <- biasCorrection(tasmax.hist,\n",
    "    y = tasmax.scru,\n",
    "    method = \"scaling\",\n",
    "    scaling.type = \"additive\")\n",
    "\n",
    "# Bias correcting historical pr\n",
    "pr.hist <- my_readRDS(\"https://meteo.unican.es/work/training-climate4r-f43534662sfw/data/impact_indices/pr_EC-EARTH_historical_r1i1p1_RACMO22E.rds\")\n",
    "pr.hist <- udConvertGrid(pr.hist, new.units = \"degC\")\n",
    "pr.hist <- interpGrid(pr.hist, new.coordinates = ref.grid)\n",
    "pr.hist.corr <- biasCorrection(pr.hist,\n",
    "    y = pr.scru,\n",
    "    method = \"scaling\",\n",
    "    scaling.type = \"additive\")\n",
    "```"
   ]
  },
  {
   "cell_type": "markdown",
   "id": "efdf60cc",
   "metadata": {},
   "source": [
    "### 3. CORDEX RCP 8.5 experiment data, period 2010:2100\n",
    "\n",
    "To load the future (years = 2010:2100) data from the RCP 8.5 experiment, the procedure is similar as for the historical data.\n",
    "Firts we look for the file to load from the filelist that cintains these key strings: EUR-44, RACMO22E, EC-EARTH, and RCP 8.5 (instead if historical):\n"
   ]
  },
  {
   "cell_type": "code",
   "execution_count": null,
   "id": "ccb6d647",
   "metadata": {},
   "outputs": [],
   "source": [
    "# Lets check the list of files:\n",
    "filelist"
   ]
  },
  {
   "cell_type": "markdown",
   "id": "c4739cce",
   "metadata": {},
   "source": [
    "The file that fits the pattern is `CORDEX-EUR-44_ICHEC-EC-EARTH_rcp85_r1i1p1_KNMI-RACMO22E_v1`, and normaly can be also downloaded using `loadGridData`, which would need some time to load. "
   ]
  },
  {
   "cell_type": "markdown",
   "id": "1e5d03b6",
   "metadata": {},
   "source": [
    "```R\n",
    "tasmin.85 <- loadGridData(dataset = \"CORDEX-EUR-44_ICHEC-EC-EARTH_rcp85_r1i1p1_KNMI-RACMO22E_v1\",\n",
    "  var = \"tasmin\",\n",
    "  lonLim = lonLim,\n",
    "  latLim = latLim,\n",
    "  years = 2010:2100,\n",
    "  time = \"DD\",\n",
    "  aggr.m = \"mean\")\n",
    "tasmin.85 <- udConvertGrid(new.units = \"degC\")\n",
    "tasmin.85 <- interpGrid(tasmin.85, new.coordinates = ref.grid)\n",
    "```"
   ]
  },
  {
   "cell_type": "markdown",
   "id": "301b9bea",
   "metadata": {},
   "source": [
    "As before, we prepared files to be loaded faster using `my_readRDS`:"
   ]
  },
  {
   "cell_type": "code",
   "execution_count": null,
   "id": "7d8d3629",
   "metadata": {},
   "outputs": [],
   "source": [
    "tasmin.85 <- my_readRDS(\"https://meteo.unican.es/work/training-climate4r-f43534662sfw/data/impact_indices/tasmin_EC-EARTH_rcp85_r1i1p1_RACMO22E.rds\")\n",
    "tasmin.85 <- udConvertGrid(tasmin.85, new.units = \"degC\")\n",
    "tasmin.85 <- interpGrid(tasmin.85, new.coordinates = ref.grid)\n",
    "tasmin.85.corr <- biasCorrection(tasmin.85,\n",
    "    y = tasmin.scru,\n",
    "    method = \"scaling\",\n",
    "    scaling.type = \"additive\")"
   ]
  },
  {
   "cell_type": "markdown",
   "id": "6fbd6e78",
   "metadata": {},
   "source": [
    "**Exercise:**  \n",
    "Follow the same procedure for `tasmax` and `pr` to produce variables `tasmax.85.corr` and `pr.85.corr`:\n",
    "1. Load data with the function `loadGridData` (or my_readRDS reading file `varname_EC-EARTH_rcp85_r1i1p1_RACMO22E.rds`\n",
    "2. Correct unit with `udConvertGrid`\n",
    "3. Interpolate data with `interpGrid`\n",
    "4. Correct bias using the function `biasCorrection`"
   ]
  },
  {
   "cell_type": "markdown",
   "id": "d2c751e8",
   "metadata": {},
   "source": [
    "```R\n",
    "# Bias correcting projected tasmax\n",
    "tasmax.85 <- my_readRDS(\"https://meteo.unican.es/work/training-climate4r-f43534662sfw/data/impact_indices/tasmin_EC-EARTH_rcp85_r1i1p1_RACMO22E.rds\")\n",
    "tasmax.85 <- udConvertGrid(tasmax.85, new.units = \"degC\")\n",
    "tasmax.85 <- interpGrid(tasmax.85, new.coordinates = ref.grid)\n",
    "tasmax.85.corr <- biasCorrection(tasmax.85,\n",
    "    y = tasmax.scru,\n",
    "    method = \"scaling\",\n",
    "    scaling.type = \"additive\")\n",
    "\n",
    "# Bias correcting projected pr\n",
    "pr.85 <- my_readRDS(\"https://meteo.unican.es/work/training-climate4r-f43534662sfw/data/impact_indices/tasmin_EC-EARTH_rcp85_r1i1p1_RACMO22E.rds\")\n",
    "pr.85 <- udConvertGrid(pr.85, new.units = \"degC\")\n",
    "pr.85 <- interpGrid(pr.85, new.coordinates = ref.grid)\n",
    "pr.85.corr <- biasCorrection(pr.85,\n",
    "    y = pr.scru,\n",
    "    method = \"scaling\",\n",
    "    scaling.type = \"additive\")\n",
    "```"
   ]
  },
  {
   "cell_type": "markdown",
   "id": "3cc1a007",
   "metadata": {},
   "source": [
    "## Calculatig future SPEI\n",
    "\n",
    "### 1. Binding bias corrected variables"
   ]
  },
  {
   "cell_type": "markdown",
   "id": "b5f65a76",
   "metadata": {},
   "source": [
    "Once both the historical and the RCP 8.5 projections have been bias-corrected using the CRU\n",
    "observations as reference, these can be joined along time into a single object, to have a continuous time series so that SPEI can be computee. This is achieved by the function `bindGrid` from package\n",
    "`transformeR`:"
   ]
  },
  {
   "cell_type": "code",
   "execution_count": null,
   "id": "8464fbb5",
   "metadata": {},
   "outputs": [],
   "source": [
    "#binding tasmax\n",
    "tx <- bindGrid(tasmax.hist.corr, tasmax.85.corr, dimension = \"time\") \n",
    "redim(tx, drop = TRUE)\n",
    "\n",
    "#binding tasmin\n",
    "tn <- bindGrid(tasmin.hist.corr, tasmin.85.corr, dimension = \"time\")\n",
    "redim(tn, drop = TRUE)\n",
    "\n",
    "#binding \n",
    "pr <- bindGrid(pr.hist.corr, pr.85.corr, dimension = \"time\") \n",
    "redim(pr, drop = TRUE)"
   ]
  },
  {
   "cell_type": "markdown",
   "id": "d689a3a1",
   "metadata": {},
   "source": [
    "### 2. Potential evapotransipration"
   ]
  },
  {
   "cell_type": "markdown",
   "id": "51cce348",
   "metadata": {},
   "source": [
    "To calculate SPEI, it is necessary to calculate potential evapotransipration. The function `petGrid`\n",
    "of the new `climate4R` package `drought4R` is used to estimate Potential Evapotranspiration, and in this case we use the `hargreaves` method [ see help(hargreaves, package = \"SPEI\") for more details on the selected method]:"
   ]
  },
  {
   "cell_type": "code",
   "execution_count": null,
   "id": "83dead38",
   "metadata": {},
   "outputs": [],
   "source": [
    "pet.har.85 <- petGrid(tasmin = tn, tasmax = tx, pr = pr, method = \"hargreaves\")"
   ]
  },
  {
   "cell_type": "markdown",
   "id": "5b3d63ef",
   "metadata": {},
   "source": [
    "Finally, `speiGrid` is used from the `SPEI` package. The index is computed considering the historical reference period (1971-2000), and thefore we define the arguments `ref.start = c(1971, 1)` and `ref.end = c(2000, 12)`, and for the scale of 12 months - argument `scale = 12`:"
   ]
  },
  {
   "cell_type": "markdown",
   "id": "92e266a0",
   "metadata": {},
   "source": [
    "### 3. Calculating and plotting future SPEI"
   ]
  },
  {
   "cell_type": "code",
   "execution_count": null,
   "id": "570a9dc5",
   "metadata": {},
   "outputs": [],
   "source": [
    "spei.rcp85 <- speiGrid(et0.grid = pet.har.85,\n",
    "    pr.grid = pr,\n",
    "    scale = 12,\n",
    "    ref.start = c(1971, 1),\n",
    "    ref.end = c(2000, 12),\n",
    "    na.rm = TRUE)"
   ]
  },
  {
   "cell_type": "markdown",
   "id": "6f62978d",
   "metadata": {},
   "source": [
    "Let's plot time series of SPEI for the RCP 8.5 experiment for grid point nearest to Madrid (Spain) shows the RCP 8.5 SPEI. To get only projected values and for the single point of Madrid, we perform `subsetGrid` in space and time:"
   ]
  },
  {
   "cell_type": "code",
   "execution_count": null,
   "id": "6d6936e2",
   "metadata": {},
   "outputs": [],
   "source": [
    "m <- subsetGrid(spei.rcp85, lonLim = -3.43, latLim = 40.23, years = 2010:2100)"
   ]
  },
  {
   "cell_type": "markdown",
   "id": "8e8e2aff",
   "metadata": {},
   "source": [
    "Finally we plot timeseries of the subset data:"
   ]
  },
  {
   "cell_type": "code",
   "execution_count": null,
   "id": "d83f10c0",
   "metadata": {},
   "outputs": [],
   "source": [
    "plot(ts(m$Data, start = c(2010,1), frequency = 12),\n",
    "    main = \"SPEI-12 (Hargreaves) RCP 8.5 Projection\\nCalibration period: 1971-2000\",\n",
    "    ylab = \"SPEI-12\")\n",
    "grid()\n",
    "abline(h = 0)\n",
    "mtext(\"Madrid, 3.43W / 40.23N\")"
   ]
  }
 ],
 "metadata": {
  "kernelspec": {
   "display_name": "R",
   "language": "R",
   "name": "ir"
  },
  "language_info": {
   "codemirror_mode": "r",
   "file_extension": ".r",
   "mimetype": "text/x-r-source",
   "name": "R",
   "pygments_lexer": "r",
   "version": "3.6.3"
  }
 },
 "nbformat": 4,
 "nbformat_minor": 5
}
